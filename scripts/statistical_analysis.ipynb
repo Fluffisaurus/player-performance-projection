{
 "cells": [
  {
   "cell_type": "code",
   "execution_count": 1,
   "metadata": {},
   "outputs": [],
   "source": [
    "import pandas as pd\n",
    "import numpy as np\n",
    "import matplotlib.pyplot as plt\n",
    "from sklearn.linear_model import LinearRegression\n",
    "from sklearn.model_selection import train_test_split\n",
    "from sklearn.neighbors import KNeighborsClassifier\n",
    "from sklearn.preprocessing import StandardScaler, FunctionTransformer, LabelEncoder,MinMaxScaler\n",
    "from sklearn.pipeline import make_pipeline\n",
    "from sklearn.svm import SVC\n",
    "from sklearn.tree import DecisionTreeClassifier,DecisionTreeRegressor\n",
    "from sklearn.naive_bayes import GaussianNB\n",
    "from sklearn.ensemble import RandomForestClassifier,VotingClassifier,GradientBoostingRegressor,RandomForestRegressor\n",
    "from sklearn import metrics\n",
    "from sklearn.decomposition import PCA\n",
    "from sklearn.neural_network import MLPClassifier\n",
    "from sklearn.metrics import r2_score\n",
    "import seaborn as sns\n",
    "from sklearn.pipeline import make_pipeline\n",
    "import plotly.express as px\n",
    "import plotly.graph_objects as go\n",
    "from scipy import stats\n",
    "from statsmodels.stats.multicomp import pairwise_tukeyhsd\n",
    "sns.set()"
   ]
  },
  {
   "cell_type": "code",
   "execution_count": 2,
   "metadata": {},
   "outputs": [],
   "source": [
    "df = pd.read_csv('../data/shot-data-all.csv')\n",
    "df_top = pd.read_csv('../data/top-def.csv')\n",
    "df_mid = pd.read_csv('../data/mid-def.csv')\n",
    "df_bot = pd.read_csv('../data/bot-def.csv')"
   ]
  },
  {
   "cell_type": "code",
   "execution_count": 3,
   "metadata": {},
   "outputs": [],
   "source": [
    "def return_model():\n",
    "    return make_pipeline(\n",
    "    StandardScaler(), \n",
    "    PCA(8), \n",
    "    GradientBoostingRegressor()\n",
    "    )\n",
    "def train_test(df,test_size):\n",
    "    X = df[['game_time','shot_made','quarter','home','shot_distance','shot_value','cum_attempts','cum_fg_percent']]\n",
    "    y = df['cum_shot_made']\n",
    "    X_train, X_valid, y_train, y_valid = train_test_split(X, y)\n",
    "    return X_train, X_valid, y_train, y_valid"
   ]
  },
  {
   "cell_type": "code",
   "execution_count": 4,
   "metadata": {},
   "outputs": [
    {
     "data": {
      "text/plain": [
       "(array([ 74., 244., 204., 196., 148.,  77.,  60.,  32.,  10.,   3.]),\n",
       " array([-0.68287541,  0.94480676,  2.57248893,  4.2001711 ,  5.82785327,\n",
       "         7.45553544,  9.08321762, 10.71089979, 12.33858196, 13.96626413,\n",
       "        15.5939463 ]),\n",
       " <a list of 10 Patch objects>)"
      ]
     },
     "execution_count": 4,
     "metadata": {},
     "output_type": "execute_result"
    },
    {
     "data": {
      "image/png": "[encoded data removed]",
      "text/plain": [
       "<Figure size 432x288 with 1 Axes>"
      ]
     },
     "metadata": {
      "needs_background": "light"
     },
     "output_type": "display_data"
    }
   ],
   "source": [
    "#TOP DEFENSE\n",
    "top_def_model = return_model()\n",
    "X_train, X_valid, y_train, y_valid = train_test(df_top, 0.25)\n",
    "top_def_model.fit(X_train,y_train)\n",
    "y_predict1 = top_def_model.predict(X_valid)\n",
    "plt.hist(y_predict1)"
   ]
  },
  {
   "cell_type": "code",
   "execution_count": 5,
   "metadata": {},
   "outputs": [
    {
     "data": {
      "text/plain": [
       "(array([107., 205., 238., 193., 139., 126.,  65.,  38.,  13.,   5.]),\n",
       " array([-0.61293385,  1.04953203,  2.71199791,  4.37446379,  6.03692968,\n",
       "         7.69939556,  9.36186144, 11.02432732, 12.6867932 , 14.34925909,\n",
       "        16.01172497]),\n",
       " <a list of 10 Patch objects>)"
      ]
     },
     "execution_count": 5,
     "metadata": {},
     "output_type": "execute_result"
    },
    {
     "data": {
      "image/png": "[encoded data removed]",
      "text/plain": [
       "<Figure size 432x288 with 1 Axes>"
      ]
     },
     "metadata": {
      "needs_background": "light"
     },
     "output_type": "display_data"
    }
   ],
   "source": [
    "#MID DEFENSE\n",
    "mid_def_model = return_model()\n",
    "X_train, X_valid, y_train, y_valid = train_test(df_mid, 0.25)\n",
    "mid_def_model.fit(X_train,y_train) \n",
    "y_predict2 = mid_def_model.predict(X_valid)\n",
    "plt.hist(y_predict2)"
   ]
  },
  {
   "cell_type": "code",
   "execution_count": 6,
   "metadata": {},
   "outputs": [
    {
     "data": {
      "text/plain": [
       "(array([ 71., 217., 211., 180., 147.,  97.,  57.,  23.,   1.,   3.]),\n",
       " array([-1.19336388,  0.60556126,  2.40448641,  4.20341155,  6.00233669,\n",
       "         7.80126184,  9.60018698, 11.39911212, 13.19803727, 14.99696241,\n",
       "        16.79588756]),\n",
       " <a list of 10 Patch objects>)"
      ]
     },
     "execution_count": 6,
     "metadata": {},
     "output_type": "execute_result"
    },
    {
     "data": {
      "image/png": "[encoded data removed]",
      "text/plain": [
       "<Figure size 432x288 with 1 Axes>"
      ]
     },
     "metadata": {
      "needs_background": "light"
     },
     "output_type": "display_data"
    }
   ],
   "source": [
    "#BOTTOM DEFENSE \n",
    "bot_def_model = return_model()\n",
    "X_train, X_valid, y_train, y_valid = train_test(df_bot, 0.25)\n",
    "bot_def_model.fit(X_train,y_train)\n",
    "y_predict3 = bot_def_model.predict(X_valid)\n",
    "plt.hist(y_predict3)"
   ]
  },
  {
   "cell_type": "code",
   "execution_count": 7,
   "metadata": {},
   "outputs": [
    {
     "name": "stdout",
     "output_type": "stream",
     "text": [
      "0.028075237820511006\n"
     ]
    }
   ],
   "source": [
    "#ANOVA TEST\n",
    "#Step 0: level of signifance is 0.05\n",
    "#Step 1: H_0: There is no statistical difference between top, middle, bottom defensive teams.\n",
    "#        H_A: There is a statistical difference between top, middle, bottom defensive teams.\n",
    "#Step 2: \n",
    "anova = stats.f_oneway(y_predict1,y_predict2,y_predict3)\n",
    "print(anova.pvalue)\n",
    "#Step 3:\n",
    "#We concluded that our p-value > 0.05, which means we failed to reject the Null Hypothesis and it may seem there \n",
    "#is no statistical difference."
   ]
  },
  {
   "cell_type": "code",
   "execution_count": 8,
   "metadata": {},
   "outputs": [
    {
     "name": "stdout",
     "output_type": "stream",
     "text": [
      "0.010981504773618273\n"
     ]
    }
   ],
   "source": [
    "print(stats.levene(y_predict1,y_predict2,y_predict3).pvalue)"
   ]
  },
  {
   "cell_type": "code",
   "execution_count": 10,
   "metadata": {},
   "outputs": [],
   "source": [
    "warriors_palette = ['#006BB6', '#FDB927', '#26282A']\n",
    "sns.set_palette(sns.color_palette(warriors_palette))"
   ]
  },
  {
   "cell_type": "code",
   "execution_count": 14,
   "metadata": {},
   "outputs": [
    {
     "data": {
      "text/plain": [
       "(array([ 71., 217., 211., 180., 147.,  97.,  57.,  23.,   1.,   3.]),\n",
       " array([-1.19336388,  0.60556126,  2.40448641,  4.20341155,  6.00233669,\n",
       "         7.80126184,  9.60018698, 11.39911212, 13.19803727, 14.99696241,\n",
       "        16.79588756]),\n",
       " <a list of 10 Patch objects>)"
      ]
     },
     "execution_count": 14,
     "metadata": {},
     "output_type": "execute_result"
    },
    {
     "data": {
      "image/png": "[encoded data removed]",
      "text/plain": [
       "<Figure size 432x288 with 1 Axes>"
      ]
     },
     "metadata": {
      "needs_background": "light"
     },
     "output_type": "display_data"
    }
   ],
   "source": [
    "plt.hist(y_predict1,alpha =0.8)\n",
    "plt.hist(y_predict2,alpha=0.8)\n",
    "plt.hist(y_predict3,alpha=0.8)"
   ]
  },
  {
   "cell_type": "code",
   "execution_count": null,
   "metadata": {},
   "outputs": [],
   "source": []
  }
 ],
 "metadata": {
  "kernelspec": {
   "display_name": "Python 3",
   "language": "python",
   "name": "python3"
  },
  "language_info": {
   "codemirror_mode": {
    "name": "ipython",
    "version": 3
   },
   "file_extension": ".py",
   "mimetype": "text/x-python",
   "name": "python",
   "nbconvert_exporter": "python",
   "pygments_lexer": "ipython3",
   "version": "3.7.4"
  }
 },
 "nbformat": 4,
 "nbformat_minor": 2
}
