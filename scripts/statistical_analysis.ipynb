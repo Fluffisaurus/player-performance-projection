{
 "cells": [
  {
   "cell_type": "code",
   "execution_count": 33,
   "metadata": {},
   "outputs": [],
   "source": [
    "import pandas as pd\n",
    "import numpy as np\n",
    "import matplotlib.pyplot as plt\n",
    "from sklearn.linear_model import LinearRegression\n",
    "from sklearn.model_selection import train_test_split\n",
    "from sklearn.neighbors import KNeighborsClassifier\n",
    "from sklearn.preprocessing import StandardScaler, FunctionTransformer, LabelEncoder,MinMaxScaler\n",
    "from sklearn.pipeline import make_pipeline\n",
    "from sklearn.svm import SVC\n",
    "from sklearn.tree import DecisionTreeClassifier,DecisionTreeRegressor\n",
    "from sklearn.naive_bayes import GaussianNB\n",
    "from sklearn.ensemble import RandomForestClassifier,VotingClassifier,GradientBoostingRegressor,RandomForestRegressor\n",
    "from sklearn import metrics\n",
    "from sklearn.decomposition import PCA\n",
    "from sklearn.neural_network import MLPClassifier\n",
    "from sklearn.metrics import r2_score\n",
    "import seaborn as sns\n",
    "from sklearn.pipeline import make_pipeline\n",
    "import plotly.express as px\n",
    "import plotly.graph_objects as go\n",
    "from scipy import stats\n",
    "from statsmodels.stats.multicomp import pairwise_tukeyhsd\n",
    "sns.set()"
   ]
  },
  {
   "cell_type": "code",
   "execution_count": 2,
   "metadata": {},
   "outputs": [],
   "source": [
    "df = pd.read_csv('../data/shot-data-all.csv')\n",
    "df_top = pd.read_csv('../data/top-def.csv')\n",
    "df_mid = pd.read_csv('../data/mid-def.csv')\n",
    "df_bot = pd.read_csv('../data/bot-def.csv')"
   ]
  },
  {
   "cell_type": "code",
   "execution_count": 3,
   "metadata": {},
   "outputs": [],
   "source": [
    "def return_model():\n",
    "    return make_pipeline(\n",
    "    StandardScaler(), \n",
    "    PCA(8), \n",
    "    GradientBoostingRegressor()\n",
    "    )\n",
    "def train_test(df,test_size):\n",
    "    X = df[['game_time','shot_made','quarter','home','shot_distance','shot_value','cum_attempts','cum_fg_percent']]\n",
    "    y = df['cum_shot_made']\n",
    "    X_train, X_valid, y_train, y_valid = train_test_split(X, y)\n",
    "    return X_train, X_valid, y_train, y_valid"
   ]
  },
  {
   "cell_type": "code",
   "execution_count": 43,
   "metadata": {},
   "outputs": [
    {
     "data": {
      "text/plain": [
       "(array([ 75., 237., 197., 204., 137.,  90.,  60.,  34.,  11.,   3.]),\n",
       " array([-0.55452161,  1.05838301,  2.67128763,  4.28419224,  5.89709686,\n",
       "         7.51000148,  9.1229061 , 10.73581072, 12.34871533, 13.96161995,\n",
       "        15.57452457]),\n",
       " <a list of 10 Patch objects>)"
      ]
     },
     "execution_count": 43,
     "metadata": {},
     "output_type": "execute_result"
    },
    {
     "data": {
      "image/png": "[encoded data removed]",
      "text/plain": [
       "<Figure size 432x288 with 1 Axes>"
      ]
     },
     "metadata": {},
     "output_type": "display_data"
    }
   ],
   "source": [
    "#TOP DEFENSE\n",
    "top_def_model = return_model()\n",
    "X_train, X_valid, y_train, y_valid = train_test(df_top, 0.25)\n",
    "top_def_model.fit(X_train,y_train)\n",
    "y_predict1 = top_def_model.predict(X_valid)\n",
    "plt.hist(y_predict1)"
   ]
  },
  {
   "cell_type": "code",
   "execution_count": 44,
   "metadata": {},
   "outputs": [
    {
     "data": {
      "text/plain": [
       "(array([119., 202., 197., 190., 139., 122.,  80.,  52.,  22.,   6.]),\n",
       " array([-0.58050141,  0.97479376,  2.53008892,  4.08538409,  5.64067925,\n",
       "         7.19597441,  8.75126958, 10.30656474, 11.8618599 , 13.41715507,\n",
       "        14.97245023]),\n",
       " <a list of 10 Patch objects>)"
      ]
     },
     "execution_count": 44,
     "metadata": {},
     "output_type": "execute_result"
    },
    {
     "data": {
      "image/png": "[encoded data removed]",
      "text/plain": [
       "<Figure size 432x288 with 1 Axes>"
      ]
     },
     "metadata": {},
     "output_type": "display_data"
    }
   ],
   "source": [
    "#MID DEFENSE\n",
    "mid_def_model = return_model()\n",
    "X_train, X_valid, y_train, y_valid = train_test(df_mid, 0.25)\n",
    "mid_def_model.fit(X_train,y_train) \n",
    "y_predict2 = mid_def_model.predict(X_valid)\n",
    "plt.hist(y_predict2)"
   ]
  },
  {
   "cell_type": "code",
   "execution_count": 45,
   "metadata": {},
   "outputs": [
    {
     "data": {
      "text/plain": [
       "(array([110., 199., 219., 163., 121., 106.,  57.,  24.,   3.,   5.]),\n",
       " array([-0.57508748,  1.05775142,  2.69059031,  4.32342921,  5.95626811,\n",
       "         7.589107  ,  9.2219459 , 10.8547848 , 12.48762369, 14.12046259,\n",
       "        15.75330149]),\n",
       " <a list of 10 Patch objects>)"
      ]
     },
     "execution_count": 45,
     "metadata": {},
     "output_type": "execute_result"
    },
    {
     "data": {
      "image/png": "[encoded data removed]",
      "text/plain": [
       "<Figure size 432x288 with 1 Axes>"
      ]
     },
     "metadata": {},
     "output_type": "display_data"
    }
   ],
   "source": [
    "#BOTTOM DEFENSE \n",
    "bot_def_model = return_model()\n",
    "X_train, X_valid, y_train, y_valid = train_test(df_bot, 0.25)\n",
    "bot_def_model.fit(X_train,y_train)\n",
    "y_predict3 = bot_def_model.predict(X_valid)\n",
    "plt.hist(y_predict3)"
   ]
  },
  {
   "cell_type": "code",
   "execution_count": 46,
   "metadata": {},
   "outputs": [
    {
     "name": "stdout",
     "output_type": "stream",
     "text": [
      "0.23369197920694762\n"
     ]
    }
   ],
   "source": [
    "#ANOVA TEST\n",
    "#Step 0: level of signifance is 0.05\n",
    "#Step 1: H_0: There is no statistical difference between top, middle, bottom defensive teams.\n",
    "#        H_A: There is a statistical difference between top, middle, bottom defensive teams.\n",
    "#Step 2: \n",
    "anova = stats.f_oneway(y_predict1,y_predict2,y_predict3)\n",
    "print(anova.pvalue)\n",
    "#Step 3:\n",
    "#We concluded that our p-value > 0.05, which means we failed to reject the Null Hypothesis and it may seem there \n",
    "#is no statistical difference."
   ]
  }
 ],
 "metadata": {
  "kernelspec": {
   "display_name": "Python 3",
   "language": "python",
   "name": "python3"
  },
  "language_info": {
   "codemirror_mode": {
    "name": "ipython",
    "version": 3
   },
   "file_extension": ".py",
   "mimetype": "text/x-python",
   "name": "python",
   "nbconvert_exporter": "python",
   "pygments_lexer": "ipython3",
   "version": "3.7.4"
  }
 },
 "nbformat": 4,
 "nbformat_minor": 2
}
