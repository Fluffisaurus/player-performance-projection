{
 "cells": [
  {
   "cell_type": "code",
   "execution_count": 1,
   "metadata": {},
   "outputs": [],
   "source": [
    "import pandas as pd"
   ]
  },
  {
   "cell_type": "code",
   "execution_count": 2,
   "metadata": {},
   "outputs": [],
   "source": [
    "df_2010 = pd.read_csv('../data/shooting/curry-2009-2019/curry-2010.csv')\n",
    "df_2011 = pd.read_csv('../data/shooting/curry-2009-2019/curry-2011.csv')\n",
    "df_2012 = pd.read_csv('../data/shooting/curry-2009-2019/curry-2012.csv')\n",
    "df_2013 = pd.read_csv('../data/shooting/curry-2009-2019/curry-2013.csv')\n",
    "df_2014 = pd.read_csv('../data/shooting/curry-2009-2019/curry-2014.csv')\n",
    "df_2015 = pd.read_csv('../data/shooting/curry-2009-2019/curry-2015.csv')\n",
    "df_2016 = pd.read_csv('../data/shooting/curry-2009-2019/curry-2016.csv')\n",
    "df_2017 = pd.read_csv('../data/shooting/curry-2009-2019/curry-2017.csv')\n",
    "df_2018 = pd.read_csv('../data/shooting/curry-2009-2019/curry-2018.csv')\n",
    "df_2019 = pd.read_csv('../data/shooting/curry-2009-2019/curry-2019.csv')"
   ]
  },
  {
   "cell_type": "code",
   "execution_count": 9,
   "metadata": {},
   "outputs": [
    {
     "data": {
      "text/html": [
       "<div>\n",
       "<style scoped>\n",
       "    .dataframe tbody tr th:only-of-type {\n",
       "        vertical-align: middle;\n",
       "    }\n",
       "\n",
       "    .dataframe tbody tr th {\n",
       "        vertical-align: top;\n",
       "    }\n",
       "\n",
       "    .dataframe thead th {\n",
       "        text-align: right;\n",
       "    }\n",
       "</style>\n",
       "<table border=\"1\" class=\"dataframe\">\n",
       "  <thead>\n",
       "    <tr style=\"text-align: right;\">\n",
       "      <th></th>\n",
       "      <th>date</th>\n",
       "      <th>home</th>\n",
       "      <th>vs</th>\n",
       "      <th>quarter</th>\n",
       "      <th>time_left</th>\n",
       "      <th>shot_made</th>\n",
       "      <th>shot_value</th>\n",
       "      <th>shot_distance</th>\n",
       "    </tr>\n",
       "  </thead>\n",
       "  <tbody>\n",
       "    <tr>\n",
       "      <th>0</th>\n",
       "      <td>2009-10-28</td>\n",
       "      <td>True</td>\n",
       "      <td>HOU</td>\n",
       "      <td>1</td>\n",
       "      <td>11:25</td>\n",
       "      <td>False</td>\n",
       "      <td>3</td>\n",
       "      <td>27</td>\n",
       "    </tr>\n",
       "    <tr>\n",
       "      <th>1</th>\n",
       "      <td>2009-10-28</td>\n",
       "      <td>True</td>\n",
       "      <td>HOU</td>\n",
       "      <td>1</td>\n",
       "      <td>09:31</td>\n",
       "      <td>True</td>\n",
       "      <td>2</td>\n",
       "      <td>19</td>\n",
       "    </tr>\n",
       "    <tr>\n",
       "      <th>2</th>\n",
       "      <td>2009-10-28</td>\n",
       "      <td>True</td>\n",
       "      <td>HOU</td>\n",
       "      <td>1</td>\n",
       "      <td>06:02</td>\n",
       "      <td>False</td>\n",
       "      <td>2</td>\n",
       "      <td>14</td>\n",
       "    </tr>\n",
       "    <tr>\n",
       "      <th>3</th>\n",
       "      <td>2009-10-28</td>\n",
       "      <td>True</td>\n",
       "      <td>HOU</td>\n",
       "      <td>2</td>\n",
       "      <td>09:49</td>\n",
       "      <td>False</td>\n",
       "      <td>2</td>\n",
       "      <td>19</td>\n",
       "    </tr>\n",
       "    <tr>\n",
       "      <th>4</th>\n",
       "      <td>2009-10-28</td>\n",
       "      <td>True</td>\n",
       "      <td>HOU</td>\n",
       "      <td>2</td>\n",
       "      <td>02:19</td>\n",
       "      <td>False</td>\n",
       "      <td>2</td>\n",
       "      <td>16</td>\n",
       "    </tr>\n",
       "    <tr>\n",
       "      <th>...</th>\n",
       "      <td>...</td>\n",
       "      <td>...</td>\n",
       "      <td>...</td>\n",
       "      <td>...</td>\n",
       "      <td>...</td>\n",
       "      <td>...</td>\n",
       "      <td>...</td>\n",
       "      <td>...</td>\n",
       "    </tr>\n",
       "    <tr>\n",
       "      <th>1745</th>\n",
       "      <td>2019-06-13</td>\n",
       "      <td>True</td>\n",
       "      <td>TOR</td>\n",
       "      <td>4</td>\n",
       "      <td>07:30</td>\n",
       "      <td>False</td>\n",
       "      <td>2</td>\n",
       "      <td>12</td>\n",
       "    </tr>\n",
       "    <tr>\n",
       "      <th>1746</th>\n",
       "      <td>2019-06-13</td>\n",
       "      <td>True</td>\n",
       "      <td>TOR</td>\n",
       "      <td>4</td>\n",
       "      <td>06:00</td>\n",
       "      <td>True</td>\n",
       "      <td>2</td>\n",
       "      <td>20</td>\n",
       "    </tr>\n",
       "    <tr>\n",
       "      <th>1747</th>\n",
       "      <td>2019-06-13</td>\n",
       "      <td>True</td>\n",
       "      <td>TOR</td>\n",
       "      <td>4</td>\n",
       "      <td>05:32</td>\n",
       "      <td>False</td>\n",
       "      <td>3</td>\n",
       "      <td>26</td>\n",
       "    </tr>\n",
       "    <tr>\n",
       "      <th>1748</th>\n",
       "      <td>2019-06-13</td>\n",
       "      <td>True</td>\n",
       "      <td>TOR</td>\n",
       "      <td>4</td>\n",
       "      <td>04:03</td>\n",
       "      <td>False</td>\n",
       "      <td>3</td>\n",
       "      <td>25</td>\n",
       "    </tr>\n",
       "    <tr>\n",
       "      <th>1749</th>\n",
       "      <td>2019-06-13</td>\n",
       "      <td>True</td>\n",
       "      <td>TOR</td>\n",
       "      <td>4</td>\n",
       "      <td>00:08</td>\n",
       "      <td>False</td>\n",
       "      <td>3</td>\n",
       "      <td>27</td>\n",
       "    </tr>\n",
       "  </tbody>\n",
       "</table>\n",
       "<p>13905 rows × 8 columns</p>\n",
       "</div>"
      ],
      "text/plain": [
       "            date  home   vs  quarter time_left  shot_made  shot_value  \\\n",
       "0     2009-10-28  True  HOU        1     11:25      False           3   \n",
       "1     2009-10-28  True  HOU        1     09:31       True           2   \n",
       "2     2009-10-28  True  HOU        1     06:02      False           2   \n",
       "3     2009-10-28  True  HOU        2     09:49      False           2   \n",
       "4     2009-10-28  True  HOU        2     02:19      False           2   \n",
       "...          ...   ...  ...      ...       ...        ...         ...   \n",
       "1745  2019-06-13  True  TOR        4     07:30      False           2   \n",
       "1746  2019-06-13  True  TOR        4     06:00       True           2   \n",
       "1747  2019-06-13  True  TOR        4     05:32      False           3   \n",
       "1748  2019-06-13  True  TOR        4     04:03      False           3   \n",
       "1749  2019-06-13  True  TOR        4     00:08      False           3   \n",
       "\n",
       "      shot_distance  \n",
       "0                27  \n",
       "1                19  \n",
       "2                14  \n",
       "3                19  \n",
       "4                16  \n",
       "...             ...  \n",
       "1745             12  \n",
       "1746             20  \n",
       "1747             26  \n",
       "1748             25  \n",
       "1749             27  \n",
       "\n",
       "[13905 rows x 8 columns]"
      ]
     },
     "execution_count": 9,
     "metadata": {},
     "output_type": "execute_result"
    }
   ],
   "source": [
    "df_all = pd.concat([df_2010, df_2011, df_2012, df_2013, df_2014, df_2015, df_2016, df_2017, df_2018, df_2019], axis=0)\n",
    "df_all = df_all.drop(['x', 'y', 'shot_description', 'game_score'], axis=1)\n",
    "df_all"
   ]
  },
  {
   "cell_type": "code",
   "execution_count": 17,
   "metadata": {},
   "outputs": [
    {
     "data": {
      "text/plain": [
       "date\n",
       "2009-10-28    12\n",
       "2009-10-30     9\n",
       "2009-11-04     6\n",
       "2009-11-06     5\n",
       "2009-11-08     8\n",
       "              ..\n",
       "2019-06-02    16\n",
       "2019-06-05    31\n",
       "2019-06-07    22\n",
       "2019-06-10    23\n",
       "2019-06-13    14\n",
       "Name: shot_made, Length: 804, dtype: int64"
      ]
     },
     "execution_count": 17,
     "metadata": {},
     "output_type": "execute_result"
    }
   ],
   "source": [
    "df_all.groupby('date')['shot_made'].count() # shots attempted"
   ]
  },
  {
   "cell_type": "code",
   "execution_count": 18,
   "metadata": {},
   "outputs": [
    {
     "data": {
      "text/plain": [
       "date\n",
       "2009-10-28     7.0\n",
       "2009-10-30     5.0\n",
       "2009-11-04     3.0\n",
       "2009-11-06     1.0\n",
       "2009-11-08     4.0\n",
       "              ... \n",
       "2019-06-02     6.0\n",
       "2019-06-05    14.0\n",
       "2019-06-07     9.0\n",
       "2019-06-10    10.0\n",
       "2019-06-13     6.0\n",
       "Name: shot_made, Length: 804, dtype: float64"
      ]
     },
     "execution_count": 18,
     "metadata": {},
     "output_type": "execute_result"
    }
   ],
   "source": [
    "df_all.groupby('date')['shot_made'].sum() # shots made"
   ]
  },
  {
   "cell_type": "code",
   "execution_count": 19,
   "metadata": {},
   "outputs": [
    {
     "data": {
      "text/plain": [
       "date        quarter\n",
       "2009-10-28  1          3\n",
       "            2          3\n",
       "            4          6\n",
       "2009-10-30  1          2\n",
       "            2          2\n",
       "                      ..\n",
       "2019-06-10  4          6\n",
       "2019-06-13  1          2\n",
       "            2          3\n",
       "            3          4\n",
       "            4          5\n",
       "Name: shot_made, Length: 2978, dtype: int64"
      ]
     },
     "execution_count": 19,
     "metadata": {},
     "output_type": "execute_result"
    }
   ],
   "source": [
    "df_all.groupby(['date', 'quarter'])['shot_made'].count() # shot attempts per quarter"
   ]
  },
  {
   "cell_type": "code",
   "execution_count": 20,
   "metadata": {},
   "outputs": [
    {
     "data": {
      "text/plain": [
       "date        quarter\n",
       "2009-10-28  1          1.0\n",
       "            2          0.0\n",
       "            4          6.0\n",
       "2009-10-30  1          1.0\n",
       "            2          2.0\n",
       "                      ... \n",
       "2019-06-10  4          2.0\n",
       "2019-06-13  1          1.0\n",
       "            2          1.0\n",
       "            3          3.0\n",
       "            4          1.0\n",
       "Name: shot_made, Length: 2978, dtype: float64"
      ]
     },
     "execution_count": 20,
     "metadata": {},
     "output_type": "execute_result"
    }
   ],
   "source": [
    "df_all.groupby(['date', 'quarter'])['shot_made'].sum() # shots made per quarter"
   ]
  },
  {
   "cell_type": "code",
   "execution_count": 30,
   "metadata": {},
   "outputs": [
    {
     "data": {
      "text/plain": [
       "date        quarter    \n",
       "2009-10-28  1        0     NaN\n",
       "                     1     0.0\n",
       "                     2     1.0\n",
       "            2        3     0.0\n",
       "                     4     0.0\n",
       "                     5     0.0\n",
       "            4        6     0.0\n",
       "                     7     1.0\n",
       "                     8     1.0\n",
       "                     9     1.0\n",
       "                     10    1.0\n",
       "                     11    1.0\n",
       "2009-10-30  1        12    1.0\n",
       "                     13    0.0\n",
       "            2        14    1.0\n",
       "                     15    1.0\n",
       "            3        16    1.0\n",
       "                     17    0.0\n",
       "            4        18    0.0\n",
       "                     19    0.0\n",
       "                     20    1.0\n",
       "2009-11-04  1        21    1.0\n",
       "                     22    1.0\n",
       "                     23    0.0\n",
       "                     24    1.0\n",
       "            2        25    0.0\n",
       "            3        26    0.0\n",
       "2009-11-06  1        27    1.0\n",
       "                     28    0.0\n",
       "                     29    0.0\n",
       "Name: shot_made, dtype: float64"
      ]
     },
     "execution_count": 30,
     "metadata": {},
     "output_type": "execute_result"
    }
   ],
   "source": [
    "df_all.groupby(['date', 'quarter'])['shot_made'].rolling(window = 1).sum().shift().head(30)"
   ]
  },
  {
   "cell_type": "code",
   "execution_count": 25,
   "metadata": {},
   "outputs": [
    {
     "data": {
      "text/plain": [
       "0    False\n",
       "1     True\n",
       "2    False\n",
       "3    False\n",
       "4    False\n",
       "Name: shot_made, dtype: bool"
      ]
     },
     "execution_count": 25,
     "metadata": {},
     "output_type": "execute_result"
    }
   ],
   "source": [
    "df_all['shot_made'].head()"
   ]
  }
 ],
 "metadata": {
  "kernelspec": {
   "display_name": "Python 3",
   "language": "python",
   "name": "python3"
  },
  "language_info": {
   "codemirror_mode": {
    "name": "ipython",
    "version": 3
   },
   "file_extension": ".py",
   "mimetype": "text/x-python",
   "name": "python",
   "nbconvert_exporter": "python",
   "pygments_lexer": "ipython3",
   "version": "3.6.8"
  }
 },
 "nbformat": 4,
 "nbformat_minor": 2
}
