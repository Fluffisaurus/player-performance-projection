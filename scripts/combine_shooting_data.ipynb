{
 "cells": [
  {
   "cell_type": "code",
   "execution_count": null,
   "metadata": {},
   "outputs": [],
   "source": [
    "import pandas as pd\n",
    "import numpy as np\n",
    "import matplotlib.pyplot as plt\n",
    "import datetime\n",
    "from datetime import datetime,timedelta\n",
    "import time"
   ]
  },
  {
   "cell_type": "code",
   "execution_count": null,
   "metadata": {},
   "outputs": [],
   "source": [
    "df_2010 = pd.read_csv('../data/shooting/curry-2009-2019/curry-2010.csv')\n",
    "df_2011 = pd.read_csv('../data/shooting/curry-2009-2019/curry-2011.csv')\n",
    "df_2012 = pd.read_csv('../data/shooting/curry-2009-2019/curry-2012.csv')\n",
    "df_2013 = pd.read_csv('../data/shooting/curry-2009-2019/curry-2013.csv')\n",
    "df_2014 = pd.read_csv('../data/shooting/curry-2009-2019/curry-2014.csv')\n",
    "df_2015 = pd.read_csv('../data/shooting/curry-2009-2019/curry-2015.csv')\n",
    "df_2016 = pd.read_csv('../data/shooting/curry-2009-2019/curry-2016.csv')\n",
    "df_2017 = pd.read_csv('../data/shooting/curry-2009-2019/curry-2017.csv')\n",
    "df_2018 = pd.read_csv('../data/shooting/curry-2009-2019/curry-2018.csv')\n",
    "df_2019 = pd.read_csv('../data/shooting/curry-2009-2019/curry-2019.csv')"
   ]
  },
  {
   "cell_type": "code",
   "execution_count": null,
   "metadata": {},
   "outputs": [],
   "source": [
    "df_all = pd.concat([df_2010, df_2011, df_2012, df_2013, df_2014, df_2015, df_2016, df_2017, df_2018, df_2019], axis=0)\n",
    "df_all = df_all.drop(['x', 'y', 'shot_description', 'game_score'], axis=1)\n",
    "df_all"
   ]
  },
  {
   "cell_type": "code",
   "execution_count": null,
   "metadata": {},
   "outputs": [],
   "source": [
    "df_all.groupby('date')['shot_made'].count() # shots attempted"
   ]
  },
  {
   "cell_type": "code",
   "execution_count": null,
   "metadata": {},
   "outputs": [],
   "source": [
    "df_all.groupby('date')['shot_made'].sum() # shots made"
   ]
  },
  {
   "cell_type": "code",
   "execution_count": null,
   "metadata": {},
   "outputs": [],
   "source": [
    "df_all.groupby(['date', 'quarter'])['shot_made'].count() # shot attempts per quarter"
   ]
  },
  {
   "cell_type": "code",
   "execution_count": null,
   "metadata": {},
   "outputs": [],
   "source": [
    "df_all.groupby(['date', 'quarter'])['shot_made'].sum() # shots made per quarter"
   ]
  },
  {
   "cell_type": "code",
   "execution_count": null,
   "metadata": {},
   "outputs": [],
   "source": [
    "test_df = df_all\n",
    "test_df.head(30)"
   ]
  },
  {
   "cell_type": "code",
   "execution_count": null,
   "metadata": {
    "scrolled": true
   },
   "outputs": [],
   "source": [
    "# cumsum by date help from https://stackoverflow.com/a/42691528\n",
    "test_df = df_all.groupby(df_all['date'])['shot_made'].cumsum().reset_index()\n",
    "test_df"
   ]
  },
  {
   "cell_type": "code",
   "execution_count": null,
   "metadata": {},
   "outputs": [],
   "source": [
    "def strToDatetime(string):\n",
    "    return datetime.strptime(string, '%M:%S')"
   ]
  },
  {
   "cell_type": "code",
   "execution_count": null,
   "metadata": {},
   "outputs": [],
   "source": [
    "df_all['cum_shot'] = test_df['shot_made']\n",
    "# df_all['game_time'] = df_all['quarter'] * 12 - df_all['time_left']\n",
    "# TODO: CONVERT time_left and quarter into game_time\n",
    "# game_time = quarter * 12 * 60 - time_left in seconds\n",
    "\n",
    "#datetime.strptime(df_all.iloc[0]['time_left'], '%M:%S').strftime('%M:%S')\n",
    "df_all['time_left'] = df_all['time_left'].apply(strToDatetime)\n",
    "\n",
    "\n",
    "#df_all['time_left']\n",
    "\n",
    "# df_all.head()"
   ]
  },
  {
   "cell_type": "code",
   "execution_count": null,
   "metadata": {},
   "outputs": [],
   "source": [
    "#df_all['time_left'].apply(lambda x: x.strftime('%M:%S'))\n",
    "df_all['game_time'] = pd.to_datetime(df_all['time_left'], format='%H:%M')\n",
    "df_all['game_time'] = pd.to_timedelta(df_all['game_time'] - pd.datetime(1900, 1, 1))\n",
    "#Convert to Minutes\n",
    "df_all['game_time'] = df_all['game_time'].dt.total_seconds() / 60\n",
    "df_all['game_time'] = df_all['quarter'] * 12 - df_all['game_time']\n",
    "df_all.head()"
   ]
  },
  {
   "cell_type": "code",
   "execution_count": null,
   "metadata": {},
   "outputs": [],
   "source": [
    "# df_final = df_all[[\"date\",'home','vs','quarter','time_left','shot_made','shot_value','cum_shot','shot_distance']]\n",
    "# df_final.head()"
   ]
  },
  {
   "cell_type": "code",
   "execution_count": null,
   "metadata": {},
   "outputs": [],
   "source": [
    "plt.subplots(figsize=(20,10))\n",
    "plt.scatter(df_all['game_time'], df_all['cum_shot'])\n",
    "#plt.xlim([df_final['time_left'].max(), df_final['time_left'].min()])\n",
    "plt.show()"
   ]
  },
  {
   "cell_type": "code",
   "execution_count": null,
   "metadata": {},
   "outputs": [],
   "source": []
  }
 ],
 "metadata": {
  "kernelspec": {
   "display_name": "Python 3",
   "language": "python",
   "name": "python3"
  },
  "language_info": {
   "codemirror_mode": {
    "name": "ipython",
    "version": 3
   },
   "file_extension": ".py",
   "mimetype": "text/x-python",
   "name": "python",
   "nbconvert_exporter": "python",
   "pygments_lexer": "ipython3",
   "version": "3.7.4"
  }
 },
 "nbformat": 4,
 "nbformat_minor": 2
}
