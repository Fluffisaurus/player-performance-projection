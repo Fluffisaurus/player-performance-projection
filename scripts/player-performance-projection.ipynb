{
 "cells": [
  {
   "cell_type": "code",
   "execution_count": 31,
   "metadata": {},
   "outputs": [],
   "source": [
    "import pandas as pd\n",
    "import numpy as np\n",
    "import matplotlib.pyplot as plt\n",
    "from sklearn.linear_model import LinearRegression\n",
    "from sklearn.model_selection import train_test_split\n",
    "from sklearn.neighbors import KNeighborsClassifier\n",
    "from sklearn.preprocessing import StandardScaler, FunctionTransformer, LabelEncoder,MinMaxScaler\n",
    "from sklearn.pipeline import make_pipeline\n",
    "from sklearn.svm import SVC\n",
    "from sklearn.tree import DecisionTreeClassifier,DecisionTreeRegressor\n",
    "from sklearn.naive_bayes import GaussianNB\n",
    "from sklearn.ensemble import RandomForestClassifier,VotingClassifier,GradientBoostingRegressor,RandomForestRegressor\n",
    "from sklearn import metrics\n",
    "from sklearn.decomposition import PCA\n",
    "from sklearn.neural_network import MLPClassifier\n",
    "from sklearn.metrics import r2_score\n",
    "TOP_DEF_VALID_TEMPLATE = (\n",
    "   'Validation Score on Top DEF RTG is: {score:.3g}\\n'\n",
    "    )\n",
    "TOP_DEF_TRAIN_TEMPLATE = (\n",
    "   'Training Score on Top DEF RTG is: {score:.3g}\\n'\n",
    "    )\n",
    "MID_DEF_VALID_TEMPLATE = (\n",
    "   'Validation Score on Mid DEF RTG is: {score:.3g}\\n'\n",
    "    )\n",
    "MID_DEF_TRAIN_TEMPLATE = (\n",
    "   'Training Score on Mid DEF RTG is: {score:.3g}\\n'\n",
    "    )\n",
    "BOT_DEF_VALID_TEMPLATE = (\n",
    "   'Validation Score on Bot DEF RTG is: {score:.3g}\\n'\n",
    "    )\n",
    "BOT_DEF_TRAIN_TEMPLATE = (\n",
    "   'Training Score on Bot DEF RTG is: {score:.3g}\\n'\n",
    "    )\n"
   ]
  },
  {
   "cell_type": "code",
   "execution_count": 2,
   "metadata": {},
   "outputs": [],
   "source": [
    "df = pd.read_csv('../data/shot-data-all.csv')\n",
    "df_top = pd.read_csv('../data/top-def.csv')\n",
    "df_mid = pd.read_csv('../data/mid-def.csv')\n",
    "df_bot = pd.read_csv('../data/bot-def.csv')"
   ]
  },
  {
   "cell_type": "code",
   "execution_count": 3,
   "metadata": {
    "scrolled": true
   },
   "outputs": [],
   "source": [
    "#creating dummy variable\n",
    "number = LabelEncoder()\n",
    "df['vs_int'] = number.fit_transform(df['vs'])\n"
   ]
  },
  {
   "cell_type": "code",
   "execution_count": 4,
   "metadata": {},
   "outputs": [],
   "source": [
    "X = df[['game_time','shot_made','quarter','home','vs_int','shot_distance']]\n",
    "y = df['cum_shot_made']\n",
    "X_train, X_valid, y_train, y_valid = train_test_split(X, y,test_size=0.1)"
   ]
  },
  {
   "cell_type": "markdown",
   "metadata": {},
   "source": [
    "### Linear Regression"
   ]
  },
  {
   "cell_type": "code",
   "execution_count": 5,
   "metadata": {},
   "outputs": [
    {
     "name": "stdout",
     "output_type": "stream",
     "text": [
      "0.5290788623527369\n"
     ]
    }
   ],
   "source": [
    "reg = LinearRegression()\n",
    "reg.fit(X_train,y_train)\n",
    "score = reg.score(X_valid,y_valid)\n",
    "print(score)"
   ]
  },
  {
   "cell_type": "markdown",
   "metadata": {},
   "source": [
    "### Voting Classifier"
   ]
  },
  {
   "cell_type": "code",
   "execution_count": 6,
   "metadata": {},
   "outputs": [
    {
     "name": "stdout",
     "output_type": "stream",
     "text": [
      "0.2393961179007908\n"
     ]
    }
   ],
   "source": [
    "#VOTING CLASS\n",
    "model = VotingClassifier([\n",
    "       \n",
    "       ('tree1', DecisionTreeClassifier(max_depth=4)),\n",
    "       ('tree2', DecisionTreeClassifier(min_samples_leaf=10)),\n",
    "    ])\n",
    "model.fit(X_train,y_train)\n",
    "score = model.score(X_valid,y_valid)\n",
    "print(score)"
   ]
  },
  {
   "cell_type": "markdown",
   "metadata": {},
   "source": [
    "### Gradient Boost"
   ]
  },
  {
   "cell_type": "code",
   "execution_count": 7,
   "metadata": {},
   "outputs": [
    {
     "name": "stdout",
     "output_type": "stream",
     "text": [
      "0.5473698004781673\n"
     ]
    }
   ],
   "source": [
    "model = GradientBoostingRegressor(n_estimators=100)\n",
    "model.fit(X_train,y_train)\n",
    "score = model.score(X_valid,y_valid)\n",
    "print(score)"
   ]
  },
  {
   "cell_type": "markdown",
   "metadata": {},
   "source": [
    "# All team Test"
   ]
  },
  {
   "cell_type": "code",
   "execution_count": 8,
   "metadata": {},
   "outputs": [
    {
     "name": "stdout",
     "output_type": "stream",
     "text": [
      "0.5587903303562772\n",
      "0.5537185536744569\n",
      "0.5575286223560929\n",
      "0.5797927683097044\n",
      "0.5529442738534688\n"
     ]
    }
   ],
   "source": [
    "X = df[['game_time','shot_made','quarter','home','shot_distance','shot_value', 'vs_int']]\n",
    "y = df['cum_shot_made']\n",
    "X_train, X_valid, y_train, y_valid = train_test_split(X, y,test_size = 0.25)\n",
    "model = make_pipeline(\n",
    "    PCA(7), \n",
    "    GradientBoostingRegressor()\n",
    ")\n",
    "for i in range(0,5):\n",
    "    X_train, X_valid, y_train, y_valid = train_test_split(X, y,test_size = 0.25)\n",
    "\n",
    "    model.fit(X_train,y_train)\n",
    "    score = model.score(X_valid,y_valid)\n",
    "    print(score)\n"
   ]
  },
  {
   "cell_type": "markdown",
   "metadata": {},
   "source": [
    "# Random Forest Model"
   ]
  },
  {
   "cell_type": "code",
   "execution_count": 9,
   "metadata": {},
   "outputs": [
    {
     "name": "stdout",
     "output_type": "stream",
     "text": [
      "0.4743835238159644\n"
     ]
    },
    {
     "name": "stderr",
     "output_type": "stream",
     "text": [
      "/anaconda3/lib/python3.7/site-packages/sklearn/ensemble/forest.py:245: FutureWarning: The default value of n_estimators will change from 10 in version 0.20 to 100 in 0.22.\n",
      "  \"10 in version 0.20 to 100 in 0.22.\", FutureWarning)\n"
     ]
    }
   ],
   "source": [
    "Houston = df[df['vs'] == 'HOU']\n",
    "X = Houston[['game_time','shot_made','quarter','home','shot_distance','shot_value']]\n",
    "y = Houston['cum_shot_made']\n",
    "X_train, X_valid, y_train, y_valid = train_test_split(X, y,test_size = 0.25)\n",
    "\n",
    "\n",
    "model = RandomForestRegressor()\n",
    "model.fit(X_train,y_train)\n",
    "score = model.score(X_valid,y_valid)\n",
    "print(score)"
   ]
  },
  {
   "cell_type": "markdown",
   "metadata": {},
   "source": [
    "### PCA"
   ]
  },
  {
   "cell_type": "code",
   "execution_count": 10,
   "metadata": {},
   "outputs": [
    {
     "name": "stdout",
     "output_type": "stream",
     "text": [
      "0.7707666511017681\n",
      "0.8818421141538557\n"
     ]
    }
   ],
   "source": [
    "Houston = df[df['vs'] == 'HOU']\n",
    "X = Houston[['game_time','shot_made','quarter','home','shot_distance','shot_value','cum_attempts','cum_fg_percent']]\n",
    "y = Houston['cum_shot_made']\n",
    "\n",
    "# scaler = MinMaxScaler()\n",
    "# X = scaler.fit_transform(X)\n",
    "# pca = PCA(n_components=2)\n",
    "# principal_components = pca.fit_transform(X)\n",
    "\n",
    "\n",
    "model = make_pipeline(\n",
    "    StandardScaler(),\n",
    "    PCA(2), \n",
    "    GradientBoostingRegressor()\n",
    ")\n",
    "#for i in range(0,10):\n",
    "X_train, X_valid, y_train, y_valid = train_test_split(X, y,test_size = 0.25)\n",
    "\n",
    "model.fit(X_train,y_train)\n",
    "print(model.score(X_valid,y_valid))\n",
    "print(model.score(X_train,y_train))\n"
   ]
  },
  {
   "cell_type": "code",
   "execution_count": 11,
   "metadata": {},
   "outputs": [
    {
     "name": "stdout",
     "output_type": "stream",
     "text": [
      "0.9489214543272588\n",
      "0.9971022839301261\n"
     ]
    }
   ],
   "source": [
    "Knicks = df[df['vs'] == 'NYK']\n",
    "X = Knicks[['game_time','shot_made','quarter','home','shot_distance','shot_value','cum_attempts','cum_fg_percent']]\n",
    "y = Knicks['cum_shot_made']\n",
    "\n",
    "# scaler = MinMaxScaler()\n",
    "# X = scaler.fit_transform(X)\n",
    "# pca = PCA(n_components=2)\n",
    "# principal_components = pca.fit_transform(X)\n",
    "\n",
    "\n",
    "model = make_pipeline(\n",
    "    StandardScaler(),\n",
    "    PCA(), \n",
    "    GradientBoostingRegressor()\n",
    ")\n",
    "\n",
    "X_train, X_valid, y_train, y_valid = train_test_split(X, y,test_size = 0.25)\n",
    "\n",
    "model.fit(X_train,y_train)\n",
    "print(model.score(X_valid,y_valid))\n",
    "print(model.score(X_train,y_train))\n"
   ]
  },
  {
   "cell_type": "code",
   "execution_count": 12,
   "metadata": {},
   "outputs": [
    {
     "name": "stdout",
     "output_type": "stream",
     "text": [
      "0.9791004619332817\n",
      "0.9835487168954484\n"
     ]
    }
   ],
   "source": [
    "X = df[['game_time','shot_made','quarter','home','shot_distance','shot_value','cum_attempts','cum_fg_percent']]\n",
    "y = df['cum_shot_made']\n",
    "\n",
    "# scaler = MinMaxScaler()\n",
    "# X = scaler.fit_transform(X)\n",
    "# pca = PCA(n_components=2)\n",
    "# principal_components = pca.fit_transform(X)\n",
    "\n",
    "\n",
    "model = make_pipeline(\n",
    "    StandardScaler(), \n",
    "    PCA(), \n",
    "    GradientBoostingRegressor()\n",
    ")\n",
    "#for i in range(0,10):\n",
    "X_train, X_valid, y_train, y_valid = train_test_split(X, y,test_size = 0.25)\n",
    "\n",
    "model.fit(X_train,y_train)\n",
    "print(model.score(X_valid,y_valid))\n",
    "print(model.score(X_train,y_train))"
   ]
  },
  {
   "cell_type": "code",
   "execution_count": 13,
   "metadata": {},
   "outputs": [
    {
     "data": {
      "text/plain": [
       "array([ 0.78491096, 10.36143846,  6.14264739, ..., 12.59944022,\n",
       "        2.64964543,  4.52618696])"
      ]
     },
     "execution_count": 13,
     "metadata": {},
     "output_type": "execute_result"
    }
   ],
   "source": [
    "model.predict(X_valid)"
   ]
  },
  {
   "cell_type": "code",
   "execution_count": 14,
   "metadata": {},
   "outputs": [
    {
     "data": {
      "text/plain": [
       "array([ 0.78491096, 10.36143846,  6.14264739, ..., 12.59944022,\n",
       "        2.64964543,  4.52618696])"
      ]
     },
     "execution_count": 14,
     "metadata": {},
     "output_type": "execute_result"
    }
   ],
   "source": [
    "y_predicted = model.predict(X_valid)\n",
    "y_predicted\n"
   ]
  },
  {
   "cell_type": "code",
   "execution_count": 15,
   "metadata": {},
   "outputs": [
    {
     "data": {
      "text/plain": [
       "0.9791004619332817"
      ]
     },
     "execution_count": 15,
     "metadata": {},
     "output_type": "execute_result"
    }
   ],
   "source": [
    "r2_score(y_valid, y_predicted)"
   ]
  },
  {
   "cell_type": "code",
   "execution_count": 22,
   "metadata": {
    "scrolled": false
   },
   "outputs": [],
   "source": [
    "def return_model():\n",
    "    return make_pipeline(\n",
    "    StandardScaler(), \n",
    "    PCA(8), \n",
    "    GradientBoostingRegressor()\n",
    "    )\n",
    "def train_test(df,test_size):\n",
    "    X = df[['game_time','shot_made','quarter','home','shot_distance','shot_value','cum_attempts','cum_fg_percent']]\n",
    "    y = df['cum_shot_made']\n",
    "    X_train, X_valid, y_train, y_valid = train_test_split(X, y)\n",
    "    return X_train, X_valid, y_train, y_valid"
   ]
  },
  {
   "cell_type": "code",
   "execution_count": 32,
   "metadata": {},
   "outputs": [
    {
     "name": "stdout",
     "output_type": "stream",
     "text": [
      "Training Score on Top DEF RTG is: 0.982\n",
      "\n",
      "Validation Score on Top DEF RTG is: 0.964\n",
      "\n",
      "Training Score on Mid DEF RTG is: 0.985\n",
      "\n",
      "Validation Score on Mid DEF RTG is: 0.985\n",
      "\n",
      "Training Score on Bot DEF RTG is: 0.988\n",
      "\n",
      "Validation Score on Bot DEF RTG is: 0.988\n",
      "\n"
     ]
    }
   ],
   "source": [
    "top_def_model = return_model()\n",
    "mid_def_model = return_model()\n",
    "bot_def_model = return_model()\n",
    "\n",
    "#TOP DEFENSE\n",
    "X_train, X_valid, y_train, y_valid = train_test(df_top, 0.25)\n",
    "top_def_model.fit(X_train,y_train)\n",
    "\n",
    "print(TOP_DEF_TRAIN_TEMPLATE.format(score=top_def_model.score(X_train,y_train)))\n",
    "print(TOP_DEF_VALID_TEMPLATE.format(score=top_def_model.score(X_valid,y_valid)))\n",
    "\n",
    "#MID DEFENSE\n",
    "X_train, X_valid, y_train, y_valid = train_test(df_mid, 0.25)\n",
    "mid_def_model.fit(X_train,y_train) \n",
    "\n",
    "print(MID_DEF_TRAIN_TEMPLATE.format(score=mid_def_model.score(X_train,y_train)))\n",
    "print(MID_DEF_VALID_TEMPLATE.format(score=mid_def_model.score(X_train,y_train)))\n",
    "\n",
    "#BOT DEFENSE\n",
    "X_train, X_valid, y_train, y_valid = train_test(df_bot, 0.25)\n",
    "bot_def_model.fit(X_train,y_train)\n",
    "print(BOT_DEF_TRAIN_TEMPLATE.format(score=bot_def_model.score(X_train,y_train)))\n",
    "print(BOT_DEF_VALID_TEMPLATE.format(score=bot_def_model.score(X_train,y_train)))\n",
    "\n"
   ]
  },
  {
   "cell_type": "code",
   "execution_count": null,
   "metadata": {},
   "outputs": [],
   "source": []
  }
 ],
 "metadata": {
  "kernelspec": {
   "display_name": "Python 3",
   "language": "python",
   "name": "python3"
  },
  "language_info": {
   "codemirror_mode": {
    "name": "ipython",
    "version": 3
   },
   "file_extension": ".py",
   "mimetype": "text/x-python",
   "name": "python",
   "nbconvert_exporter": "python",
   "pygments_lexer": "ipython3",
   "version": "3.7.4"
  }
 },
 "nbformat": 4,
 "nbformat_minor": 2
}
