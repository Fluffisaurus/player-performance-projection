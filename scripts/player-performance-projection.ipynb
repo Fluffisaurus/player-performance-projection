{
 "cells": [
  {
   "cell_type": "code",
   "execution_count": 80,
   "metadata": {},
   "outputs": [],
   "source": [
    "import pandas as pd\n",
    "import numpy as np\n",
    "import matplotlib.pyplot as plt\n",
    "from sklearn.linear_model import LinearRegression\n",
    "from sklearn.model_selection import train_test_split\n",
    "from sklearn.neighbors import KNeighborsClassifier\n",
    "from sklearn.preprocessing import StandardScaler, FunctionTransformer, LabelEncoder,MinMaxScaler\n",
    "from sklearn.pipeline import make_pipeline\n",
    "from sklearn.svm import SVC\n",
    "from sklearn.tree import DecisionTreeClassifier,DecisionTreeRegressor\n",
    "from sklearn.naive_bayes import GaussianNB\n",
    "from sklearn.ensemble import RandomForestClassifier,VotingClassifier,GradientBoostingRegressor,RandomForestRegressor\n",
    "from sklearn import metrics\n",
    "from sklearn.decomposition import PCA"
   ]
  },
  {
   "cell_type": "code",
   "execution_count": 2,
   "metadata": {},
   "outputs": [],
   "source": [
    "df = pd.read_csv('shot-data-all.csv')\n",
    "df_top = pd.read_csv('top-def.csv')\n",
    "df_mid = pd.read_csv('mid-def.csv')\n",
    "df_bot = pd.read_csv('bot-def.csv')"
   ]
  },
  {
   "cell_type": "code",
   "execution_count": 3,
   "metadata": {},
   "outputs": [],
   "source": [
    "#creating dummy variable\n",
    "number = LabelEncoder()\n",
    "df['vs_int'] = number.fit_transform(df['vs'].astype('str'))"
   ]
  },
  {
   "cell_type": "code",
   "execution_count": 4,
   "metadata": {},
   "outputs": [],
   "source": [
    "X = df[['game_time','shot_made','quarter','home','vs_int','shot_distance']]\n",
    "y = df['cum_shot']\n",
    "x_train, x_test, y_train, y_test = train_test_split(X, y,test_size=0.1)"
   ]
  },
  {
   "cell_type": "markdown",
   "metadata": {},
   "source": [
    "### Linear Regression"
   ]
  },
  {
   "cell_type": "code",
   "execution_count": 5,
   "metadata": {},
   "outputs": [
    {
     "name": "stdout",
     "output_type": "stream",
     "text": [
      "0.523359799823936\n"
     ]
    }
   ],
   "source": [
    "reg = LinearRegression()\n",
    "reg.fit(x_train,y_train)\n",
    "score = reg.score(x_test,y_test)\n",
    "print(score)"
   ]
  },
  {
   "cell_type": "markdown",
   "metadata": {},
   "source": [
    "### Voting Classifier"
   ]
  },
  {
   "cell_type": "code",
   "execution_count": 6,
   "metadata": {},
   "outputs": [
    {
     "name": "stdout",
     "output_type": "stream",
     "text": [
      "0.24011502516175415\n"
     ]
    }
   ],
   "source": [
    "#VOTING CLASS\n",
    "model = VotingClassifier([\n",
    "       \n",
    "       ('tree1', DecisionTreeClassifier(max_depth=4)),\n",
    "       ('tree2', DecisionTreeClassifier(min_samples_leaf=10)),\n",
    "    ])\n",
    "model.fit(x_train,y_train)\n",
    "score = model.score(x_test,y_test)\n",
    "print(score)"
   ]
  },
  {
   "cell_type": "markdown",
   "metadata": {},
   "source": [
    "### Gradient Boost"
   ]
  },
  {
   "cell_type": "code",
   "execution_count": 14,
   "metadata": {},
   "outputs": [
    {
     "name": "stdout",
     "output_type": "stream",
     "text": [
      "0.5762722132890798\n"
     ]
    }
   ],
   "source": [
    "model = GradientBoostingRegressor(n_estimators=100)\n",
    "model.fit(x_train,y_train)\n",
    "score = model.score(x_test,y_test)\n",
    "print(score)"
   ]
  },
  {
   "cell_type": "markdown",
   "metadata": {},
   "source": [
    "# All team Test"
   ]
  },
  {
   "cell_type": "code",
   "execution_count": 188,
   "metadata": {},
   "outputs": [
    {
     "name": "stdout",
     "output_type": "stream",
     "text": [
      "0.5376363157255818\n",
      "0.5242464397306521\n",
      "0.5213058718808024\n",
      "0.5163512281134426\n",
      "0.5161609926162297\n",
      "0.5362402333649294\n",
      "0.5331304264993961\n",
      "0.5209077372715066\n",
      "0.5183878973623866\n",
      "0.5164631390152321\n"
     ]
    }
   ],
   "source": [
    "X = df[['game_time','shot_made','quarter','home','shot_distance','shot_value']]\n",
    "y = df['cum_shot']\n",
    "x_train, x_test, y_train, y_test = train_test_split(X, y,test_size = 0.25)\n",
    "model = make_pipeline(\n",
    "    StandardScaler()\n",
    "    PCA(2), \n",
    "    LinearRegression()\n",
    ")\n",
    "for i in range(0,10):\n",
    "    x_train, x_test, y_train, y_test = train_test_split(X, y,test_size = 0.25)\n",
    "\n",
    "    model.fit(x_train,y_train)\n",
    "    score = model.score(x_test,y_test)\n",
    "    print(score)\n"
   ]
  },
  {
   "cell_type": "markdown",
   "metadata": {},
   "source": [
    "# Random Forest Model"
   ]
  },
  {
   "cell_type": "code",
   "execution_count": 154,
   "metadata": {},
   "outputs": [
    {
     "name": "stdout",
     "output_type": "stream",
     "text": [
      "0.4835617259749545\n"
     ]
    },
    {
     "name": "stderr",
     "output_type": "stream",
     "text": [
      "/anaconda3/lib/python3.7/site-packages/sklearn/ensemble/forest.py:245: FutureWarning: The default value of n_estimators will change from 10 in version 0.20 to 100 in 0.22.\n",
      "  \"10 in version 0.20 to 100 in 0.22.\", FutureWarning)\n"
     ]
    }
   ],
   "source": [
    "Houston = df[df['vs'] == 'HOU']\n",
    "X = Houston[['game_time','shot_made','quarter','home','shot_distance','shot_value']]\n",
    "y = Houston['cum_shot']\n",
    "x_train, x_test, y_train, y_test = train_test_split(X, y,test_size = 0.1)\n",
    "\n",
    "\n",
    "model = RandomForestRegressor()\n",
    "model.fit(x_train,y_train)\n",
    "score = model.score(x_test,y_test)\n",
    "print(score)"
   ]
  },
  {
   "cell_type": "code",
   "execution_count": 183,
   "metadata": {},
   "outputs": [
    {
     "name": "stdout",
     "output_type": "stream",
     "text": [
      "0.12464444018420985\n",
      "0.12395067852908224\n",
      "0.07751013303028087\n",
      "0.1468745195366309\n",
      "0.13474366240054025\n",
      "0.07463098973770599\n",
      "0.08867100446582699\n",
      "0.17555855985944047\n",
      "0.09516167906247297\n",
      "0.1530282723473918\n"
     ]
    }
   ],
   "source": [
    "Houston = df[df['vs'] == 'HOU']\n",
    "X = Houston[['game_time','shot_made','quarter','home','shot_distance','shot_value']]\n",
    "y = Houston['cum_shot']\n",
    "\n",
    "# scaler = MinMaxScaler()\n",
    "# X = scaler.fit_transform(X)\n",
    "# pca = PCA(n_components=2)\n",
    "# principal_components = pca.fit_transform(X)\n",
    "\n",
    "\n",
    "model = make_pipeline(\n",
    "    S,\n",
    "    PCA(2), \n",
    "    LinearRegression()\n",
    ")\n",
    "for i in range(0,10):\n",
    "    x_train, x_test, y_train, y_test = train_test_split(X, y,test_size = 0.25)\n",
    "\n",
    "    model.fit(x_train,y_train)\n",
    "    score = model.score(x_test,y_test)\n",
    "    print(score)"
   ]
  },
  {
   "cell_type": "code",
   "execution_count": null,
   "metadata": {},
   "outputs": [],
   "source": []
  }
 ],
 "metadata": {
  "kernelspec": {
   "display_name": "Python 3",
   "language": "python",
   "name": "python3"
  },
  "language_info": {
   "codemirror_mode": {
    "name": "ipython",
    "version": 3
   },
   "file_extension": ".py",
   "mimetype": "text/x-python",
   "name": "python",
   "nbconvert_exporter": "python",
   "pygments_lexer": "ipython3",
   "version": "3.7.4"
  }
 },
 "nbformat": 4,
 "nbformat_minor": 2
}
