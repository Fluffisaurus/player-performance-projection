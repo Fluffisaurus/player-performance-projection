{
 "cells": [
  {
   "cell_type": "code",
   "execution_count": 1,
   "metadata": {},
   "outputs": [],
   "source": [
    "import pandas as pd\n",
    "import numpy as np\n",
    "import matplotlib.pyplot as plt\n",
    "from sklearn.linear_model import LinearRegression\n",
    "from sklearn.model_selection import train_test_split\n",
    "from sklearn.neighbors import KNeighborsClassifier\n",
    "from sklearn.preprocessing import StandardScaler, FunctionTransformer, LabelEncoder\n",
    "from sklearn.pipeline import make_pipeline\n",
    "from sklearn.svm import SVC\n",
    "from sklearn.tree import DecisionTreeClassifier\n",
    "from sklearn.naive_bayes import GaussianNB\n",
    "from sklearn.ensemble import RandomForestClassifier,VotingClassifier,GradientBoostingRegressor\n",
    "from sklearn import metrics\n",
    "from sklearn.decomposition import PCA"
   ]
  },
  {
   "cell_type": "code",
   "execution_count": 2,
   "metadata": {},
   "outputs": [],
   "source": [
    "df = pd.read_csv('shot-data-all.csv')\n",
    "df_top = pd.read_csv('top-def.csv')\n",
    "df_mid = pd.read_csv('mid-def.csv')\n",
    "df_bot = pd.read_csv('bot-def.csv')"
   ]
  },
  {
   "cell_type": "code",
   "execution_count": 3,
   "metadata": {},
   "outputs": [],
   "source": [
    "#creating dummy variable\n",
    "number = LabelEncoder()\n",
    "df['vs_int'] = number.fit_transform(df['vs'].astype('str'))"
   ]
  },
  {
   "cell_type": "code",
   "execution_count": 4,
   "metadata": {},
   "outputs": [],
   "source": [
    "X = df[['game_time','shot_made','quarter','home','vs_int','shot_distance']]\n",
    "y = df['cum_shot']\n",
    "x_train, x_test, y_train, y_test = train_test_split(X, y,test_size=0.1)"
   ]
  },
  {
   "cell_type": "markdown",
   "metadata": {},
   "source": [
    "### Linear Regression"
   ]
  },
  {
   "cell_type": "code",
   "execution_count": 5,
   "metadata": {},
   "outputs": [
    {
     "name": "stdout",
     "output_type": "stream",
     "text": [
      "0.5662552407019794\n"
     ]
    }
   ],
   "source": [
    "reg = LinearRegression()\n",
    "reg.fit(x_train,y_train)\n",
    "score = reg.score(x_test,y_test)\n",
    "print(score)"
   ]
  },
  {
   "cell_type": "markdown",
   "metadata": {},
   "source": [
    "### Voting Classifier"
   ]
  },
  {
   "cell_type": "code",
   "execution_count": 6,
   "metadata": {},
   "outputs": [],
   "source": [
    "##VOTING CLASS\n",
    "# model = VotingClassifier([\n",
    "#        ('nb', GaussianNB()),\n",
    "#        ('knn', KNeighborsClassifier(n_neighbors=100)),\n",
    "#        ('svm', SVC(kernel='linear', C=0.1)),\n",
    "#        ('tree1', DecisionTreeClassifier(max_depth=4)),\n",
    "#        ('tree2', DecisionTreeClassifier(min_samples_leaf=10)),\n",
    "#     ])\n",
    "# model.fit(x_train,y_train)\n",
    "# score = model.score(x_test,y_test)\n",
    "# print(score)"
   ]
  },
  {
   "cell_type": "markdown",
   "metadata": {},
   "source": [
    "### Gradient Boost"
   ]
  },
  {
   "cell_type": "code",
   "execution_count": 7,
   "metadata": {},
   "outputs": [
    {
     "name": "stdout",
     "output_type": "stream",
     "text": [
      "0.5845444835434369\n"
     ]
    }
   ],
   "source": [
    "model = GradientBoostingRegressor(n_estimators=100)\n",
    "model.fit(x_train,y_train)\n",
    "score = model.score(x_test,y_test)\n",
    "print(score)"
   ]
  },
  {
   "cell_type": "markdown",
   "metadata": {},
   "source": [
    "### Houston Test"
   ]
  },
  {
   "cell_type": "code",
   "execution_count": 8,
   "metadata": {},
   "outputs": [
    {
     "name": "stdout",
     "output_type": "stream",
     "text": [
      "0.5834340496936374\n"
     ]
    }
   ],
   "source": [
    "Houston = df[df['vs'] == 'HOU']\n",
    "X = Houston[['game_time','shot_made','quarter','home','shot_distance']]\n",
    "y = Houston['cum_shot']\n",
    "x_train, x_test, y_train, y_test = train_test_split(X, y,test_size = 0.1)\n",
    "\n",
    "model = GradientBoostingRegressor(n_estimators=100)\n",
    "model.fit(x_train,y_train)\n",
    "score = model.score(x_test,y_test)\n",
    "print(score)"
   ]
  }
 ],
 "metadata": {
  "kernelspec": {
   "display_name": "Python 3",
   "language": "python",
   "name": "python3"
  },
  "language_info": {
   "codemirror_mode": {
    "name": "ipython",
    "version": 3
   },
   "file_extension": ".py",
   "mimetype": "text/x-python",
   "name": "python",
   "nbconvert_exporter": "python",
   "pygments_lexer": "ipython3",
   "version": "3.7.4"
  }
 },
 "nbformat": 4,
 "nbformat_minor": 2
}
