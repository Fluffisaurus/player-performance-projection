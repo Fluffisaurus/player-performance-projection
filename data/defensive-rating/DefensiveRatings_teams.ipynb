{
 "cells": [
  {
   "cell_type": "code",
   "execution_count": 36,
   "metadata": {},
   "outputs": [],
   "source": [
    "import pandas as pd\n",
    "import numpy as np"
   ]
  },
  {
   "cell_type": "code",
   "execution_count": 37,
   "metadata": {},
   "outputs": [],
   "source": [
    "def_2018_19 = pd.read_csv(\"Def_2018-19.csv\")\n",
    "def_2017_18 = pd.read_csv(\"Def_2017-18.csv\")\n",
    "def_2016_17 = pd.read_csv(\"Def_2016-17.csv\")\n",
    "def_2015_16 = pd.read_csv(\"Def_2015-16.csv\")\n",
    "def_2014_15 = pd.read_csv(\"Def_2014-15.csv\")\n",
    "def_2013_14 = pd.read_csv(\"Def_2013-14.csv\")\n",
    "def_2012_13 = pd.read_csv(\"Def_2012-13.csv\")\n",
    "def_2011_12 = pd.read_csv(\"Def_2011-12.csv\")\n",
    "def_2010_11 = pd.read_csv(\"Def_2010-11.csv\")\n",
    "def_2009_10 = pd.read_csv(\"Def_2009-10.csv\")"
   ]
  },
  {
   "cell_type": "code",
   "execution_count": 38,
   "metadata": {},
   "outputs": [],
   "source": [
    "Combined_DEFRTG = pd.concat([def_2018_19,def_2017_18,def_2016_17,def_2015_16,def_2014_15,def_2013_14,def_2012_13,def_2011_12,def_2010_11,def_2009_10],axis=0)"
   ]
  },
  {
   "cell_type": "markdown",
   "metadata": {},
   "source": [
    "# RENAMING OLD TEAMS TO CURRENT"
   ]
  },
  {
   "cell_type": "code",
   "execution_count": 39,
   "metadata": {},
   "outputs": [],
   "source": [
    "Combined_DEFRTG.index = Combined_DEFRTG['Team']\n",
    "Combined_DEFRTG.rename(index = {\"Charlotte Bobcats\": \"Charlotte Hornets\"}, inplace = True)\n",
    "Combined_DEFRTG.rename(index = {\"LA Clippers\": \"Los Angeles Clippers\"}, inplace = True)\n",
    "Combined_DEFRTG.rename(index = {\"New Jersey Nets\": \"Brooklyn Nets\"}, inplace = True)\n",
    "Combined_DEFRTG.rename(index = {\"New Orleans Hornets\": \"New Orleans Pelicans\"}, inplace = True)\n",
    "Combined_DEFRTG.drop(['Team'],axis = 1,inplace=True)"
   ]
  },
  {
   "cell_type": "code",
   "execution_count": 40,
   "metadata": {},
   "outputs": [],
   "source": [
    "DEF_RTG_AVG = Combined_DEFRTG.groupby(Combined_DEFRTG.index).mean()"
   ]
  },
  {
   "cell_type": "code",
   "execution_count": 41,
   "metadata": {},
   "outputs": [],
   "source": [
    "DEF_RTG_AVG['Rank'] = DEF_RTG_AVG['DEFRTG'].rank().sort_values()\n",
    "DEF_RTG_AVG['Acronym'] = ['ATL','BOS','BKN','CHA','CHI','CLE','DAL','DEN','DET','GSW','HOU','IND','LAC','LAL','MEM','MIA','MIL','MIN','NOP','NYK','OKC','ORL','PHI','PHX','POR','SAC','SAS','TOR','UTA','WAS']"
   ]
  },
  {
   "cell_type": "code",
   "execution_count": 42,
   "metadata": {},
   "outputs": [],
   "source": [
    "DEF_RTG_Rank = DEF_RTG_AVG.sort_values(by='Rank')"
   ]
  },
  {
   "cell_type": "code",
   "execution_count": 43,
   "metadata": {},
   "outputs": [],
   "source": [
    "def_rating = DEF_RTG_Rank[['DEFRTG', 'Rank','Acronym']]\n",
    "def_rating.to_csv('tm-defrtg-avg-2009-2019.csv')"
   ]
  },
  {
   "cell_type": "code",
   "execution_count": 44,
   "metadata": {},
   "outputs": [],
   "source": [
    "team_rating = DEF_RTG_AVG.drop(['Rank'],axis=1)\n",
    "team_rating.to_csv('tm-avgs-2009-2019.csv')"
   ]
  }
 ],
 "metadata": {
  "kernelspec": {
   "display_name": "Python 3",
   "language": "python",
   "name": "python3"
  },
  "language_info": {
   "codemirror_mode": {
    "name": "ipython",
    "version": 3
   },
   "file_extension": ".py",
   "mimetype": "text/x-python",
   "name": "python",
   "nbconvert_exporter": "python",
   "pygments_lexer": "ipython3",
   "version": "3.7.4"
  }
 },
 "nbformat": 4,
 "nbformat_minor": 2
}
